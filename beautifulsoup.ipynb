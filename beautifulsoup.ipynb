{
 "cells": [
  {
   "cell_type": "code",
   "execution_count": 1,
   "id": "d63ebd60-b86f-4e2c-8d4a-43dbb20eeb45",
   "metadata": {},
   "outputs": [
    {
     "name": "stdout",
     "output_type": "stream",
     "text": [
      "Defaulting to user installation because normal site-packages is not writeable\n",
      "Looking in links: /usr/share/pip-wheels\n",
      "Collecting bs4\n",
      "  Obtaining dependency information for bs4 from https://files.pythonhosted.org/packages/51/bb/bf7aab772a159614954d84aa832c129624ba6c32faa559dfb200a534e50b/bs4-0.0.2-py2.py3-none-any.whl.metadata\n",
      "  Downloading bs4-0.0.2-py2.py3-none-any.whl.metadata (411 bytes)\n",
      "Requirement already satisfied: beautifulsoup4 in /opt/conda/envs/anaconda-panel-2023.05-py310/lib/python3.11/site-packages (from bs4) (4.12.2)\n",
      "Requirement already satisfied: soupsieve>1.2 in /opt/conda/envs/anaconda-panel-2023.05-py310/lib/python3.11/site-packages (from beautifulsoup4->bs4) (2.4)\n",
      "Downloading bs4-0.0.2-py2.py3-none-any.whl (1.2 kB)\n",
      "Installing collected packages: bs4\n",
      "Successfully installed bs4-0.0.2\n"
     ]
    }
   ],
   "source": [
    "!pip install bs4\n"
   ]
  },
  {
   "cell_type": "code",
   "execution_count": 2,
   "id": "25a8d00d-e43f-4c9b-a8e1-2192ebe564e4",
   "metadata": {},
   "outputs": [],
   "source": [
    "\n",
    "\n",
    "#import \n",
    "import requests\n",
    "from bs4 import BeautifulSoup\n"
   ]
  },
  {
   "cell_type": "code",
   "execution_count": 3,
   "id": "d890b974-08bd-4a67-a496-dda1741bf668",
   "metadata": {},
   "outputs": [],
   "source": [
    "page = requests.get(\"http://dataquestio.github.io/web-scraping-pages/simple.html\")"
   ]
  },
  {
   "cell_type": "code",
   "execution_count": 4,
   "id": "014d6e45-e675-4f45-9895-6de80609b21e",
   "metadata": {},
   "outputs": [],
   "source": [
    "#let's feed the webpage to the parser \n",
    "soup = BeautifulSoup(page.content, 'html.parser')"
   ]
  },
  {
   "cell_type": "code",
   "execution_count": 5,
   "id": "a9d2f547-31a9-4772-99ee-36bfd7e0f62c",
   "metadata": {},
   "outputs": [
    {
     "data": {
      "text/plain": [
       "<!DOCTYPE html>\n",
       "\n",
       "<html>\n",
       "<head>\n",
       "<title>A simple example page</title>\n",
       "</head>\n",
       "<body>\n",
       "<p>Here is some simple content for this page.</p>\n",
       "</body>\n",
       "</html>"
      ]
     },
     "execution_count": 5,
     "metadata": {},
     "output_type": "execute_result"
    }
   ],
   "source": [
    "\n",
    "\n",
    "soup\n"
   ]
  },
  {
   "cell_type": "code",
   "execution_count": 6,
   "id": "0e8e5655-199c-43a0-8454-e960d18728e2",
   "metadata": {},
   "outputs": [
    {
     "name": "stdout",
     "output_type": "stream",
     "text": [
      "<!DOCTYPE html>\n",
      "<html>\n",
      " <head>\n",
      "  <title>\n",
      "   A simple example page\n",
      "  </title>\n",
      " </head>\n",
      " <body>\n",
      "  <p>\n",
      "   Here is some simple content for this page.\n",
      "  </p>\n",
      " </body>\n",
      "</html>\n",
      "\n"
     ]
    }
   ],
   "source": [
    "#bs dispose d'une méthode pour afficher le HTML de façon bien indentée\n",
    "print(soup.prettify())"
   ]
  },
  {
   "cell_type": "code",
   "execution_count": 7,
   "id": "88890b3d-c4b3-41ae-ae10-40905db01ce4",
   "metadata": {},
   "outputs": [
    {
     "data": {
      "text/plain": [
       "<p>Here is some simple content for this page.</p>"
      ]
     },
     "execution_count": 7,
     "metadata": {},
     "output_type": "execute_result"
    }
   ],
   "source": [
    "\n",
    "\n",
    "soup.find('p')\n"
   ]
  },
  {
   "cell_type": "code",
   "execution_count": 8,
   "id": "c9f697a4-0a67-412b-a054-53b416885602",
   "metadata": {},
   "outputs": [
    {
     "data": {
      "text/plain": [
       "[<p>Here is some simple content for this page.</p>]"
      ]
     },
     "execution_count": 8,
     "metadata": {},
     "output_type": "execute_result"
    }
   ],
   "source": [
    "\n",
    "\n",
    "soup.find_all('p')\n"
   ]
  },
  {
   "cell_type": "code",
   "execution_count": 9,
   "id": "fa48f615-717a-48f3-8567-ce0f1f6b4ea4",
   "metadata": {},
   "outputs": [
    {
     "data": {
      "text/plain": [
       "'Here is some simple content for this page.'"
      ]
     },
     "execution_count": 9,
     "metadata": {},
     "output_type": "execute_result"
    }
   ],
   "source": [
    "soup.find('p').get_text()"
   ]
  },
  {
   "cell_type": "code",
   "execution_count": 10,
   "id": "d819b3d4-50a5-4d88-827f-3f6bfc0c98ad",
   "metadata": {},
   "outputs": [
    {
     "data": {
      "text/plain": [
       "'Here is some simple content for this page.'"
      ]
     },
     "execution_count": 10,
     "metadata": {},
     "output_type": "execute_result"
    }
   ],
   "source": [
    "# use the .strip() string method to remove leading and trailing characters\n",
    "soup.find('p').get_text().strip()"
   ]
  },
  {
   "cell_type": "code",
   "execution_count": 11,
   "id": "63fbb258-e8a5-43bb-9e75-2ff692c7123a",
   "metadata": {},
   "outputs": [
    {
     "data": {
      "text/plain": [
       "'Here is some simple content for this page.'"
      ]
     },
     "execution_count": 11,
     "metadata": {},
     "output_type": "execute_result"
    }
   ],
   "source": [
    "#.get_text ne marche que sur les tags uniques, pas sur une liste résultant d'un 'find_all'\n",
    "#Il faut donc slicer\n",
    "soup.find_all('p')[0].get_text()"
   ]
  },
  {
   "cell_type": "code",
   "execution_count": 12,
   "id": "cfa63053-88e9-4120-8a36-f5197f73cc56",
   "metadata": {},
   "outputs": [
    {
     "data": {
      "text/plain": [
       "[<p class=\"inner-text first-item\" id=\"first\">\n",
       "                 First paragraph.\n",
       "             </p>,\n",
       " <p class=\"inner-text\">\n",
       "                 Second paragraph.\n",
       "             </p>,\n",
       " <p class=\"outer-text first-item\" id=\"second\">\n",
       " <b>\n",
       "                 First outer paragraph.\n",
       "             </b>\n",
       " </p>,\n",
       " <p class=\"outer-text\">\n",
       " <b>\n",
       "                 Second outer paragraph.\n",
       "             </b>\n",
       " </p>]"
      ]
     },
     "execution_count": 12,
     "metadata": {},
     "output_type": "execute_result"
    }
   ],
   "source": [
    "\n",
    "\n",
    "#chargeons une page plus un peu plus complexe\n",
    "page = requests.get(\"http://dataquestio.github.io/web-scraping-pages/ids_and_classes.html\")\n",
    "soup = BeautifulSoup(page.content)\n",
    "soup.find_all('p')\n"
   ]
  },
  {
   "cell_type": "code",
   "execution_count": 13,
   "id": "2905bbcd-25b3-45c4-a6df-5c4ba45bf91e",
   "metadata": {},
   "outputs": [
    {
     "name": "stdout",
     "output_type": "stream",
     "text": [
      "<html>\n",
      " <head>\n",
      "  <title>\n",
      "   A simple example page\n",
      "  </title>\n",
      " </head>\n",
      " <body>\n",
      "  <div>\n",
      "   <p class=\"inner-text first-item\" id=\"first\">\n",
      "    First paragraph.\n",
      "   </p>\n",
      "   <p class=\"inner-text\">\n",
      "    Second paragraph.\n",
      "   </p>\n",
      "  </div>\n",
      "  <p class=\"outer-text first-item\" id=\"second\">\n",
      "   <b>\n",
      "    First outer paragraph.\n",
      "   </b>\n",
      "  </p>\n",
      "  <p class=\"outer-text\">\n",
      "   <b>\n",
      "    Second outer paragraph.\n",
      "   </b>\n",
      "  </p>\n",
      " </body>\n",
      "</html>\n",
      "\n"
     ]
    }
   ],
   "source": [
    "print(soup.prettify())"
   ]
  },
  {
   "cell_type": "code",
   "execution_count": 14,
   "id": "1d90c506-6a52-43db-b07b-6a255d1b4a89",
   "metadata": {},
   "outputs": [
    {
     "data": {
      "text/plain": [
       "'First outer paragraph.'"
      ]
     },
     "execution_count": 14,
     "metadata": {},
     "output_type": "execute_result"
    }
   ],
   "source": [
    "soup.find_all('p', {\"class\":\"outer-text\"})[0].get_text().strip()"
   ]
  },
  {
   "cell_type": "code",
   "execution_count": 15,
   "id": "64fb7c8a-ab96-45be-b9df-01ca1dc6502d",
   "metadata": {},
   "outputs": [
    {
     "data": {
      "text/plain": [
       "'First outer paragraph.'"
      ]
     },
     "execution_count": 15,
     "metadata": {},
     "output_type": "execute_result"
    }
   ],
   "source": [
    "soup.find_all('p', {\"class\":\"outer-text\", \"id\":\"second\"})[0].get_text().strip()"
   ]
  },
  {
   "cell_type": "code",
   "execution_count": 16,
   "id": "1b4458d1-93bb-487d-86bb-1800b11da5ff",
   "metadata": {},
   "outputs": [
    {
     "data": {
      "text/plain": [
       "<p class=\"inner-text first-item\" id=\"first\">\n",
       "                First paragraph.\n",
       "            </p>"
      ]
     },
     "execution_count": 16,
     "metadata": {},
     "output_type": "execute_result"
    }
   ],
   "source": [
    "# un id étant unique en HTML, on peut y accéder directement sans mentionner le tag\n",
    "soup.find(id=\"first\")"
   ]
  },
  {
   "cell_type": "code",
   "execution_count": 17,
   "id": "5f5bd8a0-555b-4a8a-85a7-68a246446150",
   "metadata": {},
   "outputs": [
    {
     "data": {
      "text/plain": [
       "'<!DOCTYPE html>\\n<html class=\"client-nojs vector-feature-language-in-header-enabled vector-feature-language-in-main-page-header-disabled vector-feature-sticky-header-disabled vector-feature-page-tools-pinned-disabled vector-feature-toc-pinned-clientpref-1 vector-feature-main-menu-pinned-disabled vector-feature-limited-width-clientpref-1 vector-feature-limited-width-content-enabled vector-feature-custom-font-size-clientpref-0 vector-feature-client-preferences-disabled vector-feature-client-prefs-pinned-disabled vector-feature-night-mode-disabled skin-night-mode-clientpref-0 vector-toc-available\" dir=\"ltr\" lang=\"fr\">\\n<head>\\n<meta charset=\"utf-8\"/>\\n<title>Science des données — Wikipédia</title>\\n<script>(function(){var className=\"client-js vector-feature-language-in-header-enabled vector-feature-language-in-main-page-header-disabled vector-feature-sticky-header-disabled vector-feature-page-tools-pinned-disabled vector-feature-toc-pinned-clientpref-1 vector-feature-main-menu-pinned-disabled '"
      ]
     },
     "execution_count": 17,
     "metadata": {},
     "output_type": "execute_result"
    }
   ],
   "source": [
    "wikipedia_DS_url = \"https://fr.wikipedia.org/wiki/Science_des_donn%C3%A9es\"\n",
    "wiki_raw = requests.get(wikipedia_DS_url)\n",
    "soup = BeautifulSoup(wiki_raw.content)\n",
    "str(soup)[:1000]"
   ]
  },
  {
   "cell_type": "code",
   "execution_count": 18,
   "id": "59013330-3043-4aa7-b192-382f0f438947",
   "metadata": {},
   "outputs": [
    {
     "data": {
      "text/plain": [
       "'<main class=\"mw-body\" id=\"content\" role=\"main\">\\n<header class=\"mw-body-header vector-page-titlebar\">\\n<nav aria-label=\"Sommaire\" class=\"vector-toc-landmark\" role=\"navigation\">\\n<div class=\"vector-dropdown vector-page-titlebar-toc vector-button-flush-left\" id=\"vector-page-titlebar-toc\">\\n<input aria-haspopup=\"true\" aria-label=\"Basculer la table des matières\" class=\"vector-dropdown-checkbox\" data-event-name=\"ui.dropdown-vector-page-titlebar-toc\" id=\"vector-page-titlebar-toc-checkbox\" role=\"button\" type=\"checkbox\"/>\\n<label aria-hidden=\"true\" class=\"vector-dropdown-label cdx-button cdx-button--fake-button cdx-button--fake-button--enabled cdx-button--weight-quiet cdx-button--icon-only\" for=\"vector-page-titlebar-toc-checkbox\" id=\"vector-page-titlebar-toc-label\"><span class=\"vector-icon mw-ui-icon-listBullet mw-ui-icon-wikimedia-listBullet\"></span>\\n<span class=\"vector-dropdown-label-text\">Basculer la table des matières</span>\\n</label>\\n<div class=\"vector-dropdown-content\">\\n<div class=\"vector-unpi'"
      ]
     },
     "execution_count": 18,
     "metadata": {},
     "output_type": "execute_result"
    }
   ],
   "source": [
    "\n",
    "\n",
    "main_soup = soup.find(\"main\")  # pas besoin de find_all car il n'y a qu'un main\n",
    "str(main_soup)[:1000]\n"
   ]
  },
  {
   "cell_type": "code",
   "execution_count": 19,
   "id": "af9d37ad-8e45-4603-be95-bc227388f311",
   "metadata": {},
   "outputs": [],
   "source": [
    "links = main_soup.find_all(\"a\")"
   ]
  },
  {
   "cell_type": "code",
   "execution_count": 20,
   "id": "7fa12d09-0ce0-4546-8638-3d8585b58eaf",
   "metadata": {},
   "outputs": [
    {
     "data": {
      "text/plain": [
       "[<a class=\"interlanguage-link-target\" href=\"https://ar.wikipedia.org/wiki/%D8%B9%D9%84%D9%85_%D8%A7%D9%84%D8%A8%D9%8A%D8%A7%D9%86%D8%A7%D8%AA\" hreflang=\"ar\" lang=\"ar\" title=\"علم البيانات – arabe\"><span>العربية</span></a>,\n",
       " <a class=\"interlanguage-link-target\" href=\"https://az.wikipedia.org/wiki/Veril%C9%99nl%C9%99r_elmi\" hreflang=\"az\" lang=\"az\" title=\"Verilənlər elmi – azerbaïdjanais\"><span>Azərbaycanca</span></a>,\n",
       " <a class=\"interlanguage-link-target\" href=\"https://bg.wikipedia.org/wiki/%D0%9D%D0%B0%D1%83%D0%BA%D0%B0_%D0%B7%D0%B0_%D0%B4%D0%B0%D0%BD%D0%BD%D0%B8%D1%82%D0%B5\" hreflang=\"bg\" lang=\"bg\" title=\"Наука за данните – bulgare\"><span>Български</span></a>,\n",
       " <a class=\"interlanguage-link-target\" href=\"https://bn.wikipedia.org/wiki/%E0%A6%89%E0%A6%AA%E0%A6%BE%E0%A6%A4%E0%A7%8D%E0%A6%A4_%E0%A6%AC%E0%A6%BF%E0%A6%9C%E0%A7%8D%E0%A6%9E%E0%A6%BE%E0%A6%A8\" hreflang=\"bn\" lang=\"bn\" title=\"উপাত্ত বিজ্ঞান – bengali\"><span>বাংলা</span></a>,\n",
       " <a class=\"interlanguage-link-target\" href=\"https://ca.wikipedia.org/wiki/Ci%C3%A8ncia_de_les_dades\" hreflang=\"ca\" lang=\"ca\" title=\"Ciència de les dades – catalan\"><span>Català</span></a>,\n",
       " <a class=\"interlanguage-link-target\" href=\"https://cs.wikipedia.org/wiki/Data_science\" hreflang=\"cs\" lang=\"cs\" title=\"Data science – tchèque\"><span>Čeština</span></a>,\n",
       " <a class=\"interlanguage-link-target\" href=\"https://de.wikipedia.org/wiki/Data_Science\" hreflang=\"de\" lang=\"de\" title=\"Data Science – allemand\"><span>Deutsch</span></a>,\n",
       " <a class=\"interlanguage-link-target\" href=\"https://el.wikipedia.org/wiki/%CE%95%CF%80%CE%B9%CF%83%CF%84%CE%AE%CE%BC%CE%B7_%CE%B4%CE%B5%CE%B4%CE%BF%CE%BC%CE%AD%CE%BD%CF%89%CE%BD\" hreflang=\"el\" lang=\"el\" title=\"Επιστήμη δεδομένων – grec\"><span>Ελληνικά</span></a>,\n",
       " <a class=\"interlanguage-link-target\" href=\"https://en.wikipedia.org/wiki/Data_science\" hreflang=\"en\" lang=\"en\" title=\"Data science – anglais\"><span>English</span></a>,\n",
       " <a class=\"interlanguage-link-target\" href=\"https://eo.wikipedia.org/wiki/Datum-scienco\" hreflang=\"eo\" lang=\"eo\" title=\"Datum-scienco – espéranto\"><span>Esperanto</span></a>]"
      ]
     },
     "execution_count": 20,
     "metadata": {},
     "output_type": "execute_result"
    }
   ],
   "source": [
    "\n",
    "\n",
    "links = main_soup.find_all(\"a\", href=True, title=True)\n",
    "links[:10]\n"
   ]
  },
  {
   "cell_type": "code",
   "execution_count": 21,
   "id": "97e1f4b3-9b96-45a6-827d-66f71cdd99f2",
   "metadata": {},
   "outputs": [
    {
     "data": {
      "text/plain": [
       "False"
      ]
     },
     "execution_count": 21,
     "metadata": {},
     "output_type": "execute_result"
    }
   ],
   "source": [
    "\n",
    "\n",
    "#utilisons la méthode startswith\n",
    "'Bonjour'.startswith(\"a\")\n"
   ]
  },
  {
   "cell_type": "code",
   "execution_count": 22,
   "id": "0c4c49ea-94f8-4476-9201-9a5f4907b91d",
   "metadata": {},
   "outputs": [],
   "source": [
    "#meme méthode en utilisant une fonctions lambda\n",
    "links = main_soup.find_all(\"a\", href=lambda link: link and link.startswith(\"/wiki/\"), title=True)"
   ]
  },
  {
   "cell_type": "code",
   "execution_count": 23,
   "id": "99fbcecd-f72d-4186-aae0-e9a4a281ae57",
   "metadata": {},
   "outputs": [
    {
     "name": "stdout",
     "output_type": "stream",
     "text": [
      "[<a accesskey=\"c\" href=\"/wiki/Science_des_donn%C3%A9es\" title=\"Voir le contenu de la page [c]\"><span>Article</span></a>, <a accesskey=\"t\" href=\"/wiki/Discussion:Science_des_donn%C3%A9es\" rel=\"discussion\" title=\"Discussion au sujet de cette page de contenu [t]\"><span>Discussion</span></a>, <a accesskey=\"j\" href=\"/wiki/Sp%C3%A9cial:Pages_li%C3%A9es/Science_des_donn%C3%A9es\" title=\"Liste des pages liées qui pointent sur celle-ci [j]\"><span>Pages liées</span></a>, <a accesskey=\"k\" href=\"/wiki/Sp%C3%A9cial:Suivi_des_liens/Science_des_donn%C3%A9es\" rel=\"nofollow\" title=\"Liste des modifications récentes des pages appelées par celle-ci [k]\"><span>Suivi des pages liées</span></a>, <a accesskey=\"u\" href=\"/wiki/Aide:Importer_un_fichier\" title=\"Téléverser des fichiers [u]\"><span>Téléverser un fichier</span></a>]\n"
     ]
    }
   ],
   "source": [
    "\n",
    "\n",
    "print(links[:5])\n"
   ]
  },
  {
   "cell_type": "code",
   "execution_count": 24,
   "id": "01ea74ea-7a32-463a-8a60-291068cd14ff",
   "metadata": {},
   "outputs": [],
   "source": [
    "liens = []\n",
    "for l in links:\n",
    "    liens.append(l['href'])"
   ]
  },
  {
   "cell_type": "code",
   "execution_count": 25,
   "id": "dedf2826-7204-40fd-8d18-48d7c57acb47",
   "metadata": {},
   "outputs": [
    {
     "data": {
      "text/plain": [
       "['/wiki/Science_des_donn%C3%A9es',\n",
       " '/wiki/Discussion:Science_des_donn%C3%A9es',\n",
       " '/wiki/Sp%C3%A9cial:Pages_li%C3%A9es/Science_des_donn%C3%A9es',\n",
       " '/wiki/Sp%C3%A9cial:Suivi_des_liens/Science_des_donn%C3%A9es',\n",
       " '/wiki/Aide:Importer_un_fichier']"
      ]
     },
     "execution_count": 25,
     "metadata": {},
     "output_type": "execute_result"
    }
   ],
   "source": [
    "liens[:5]"
   ]
  },
  {
   "cell_type": "code",
   "execution_count": 26,
   "id": "540212e5-f1a2-4e4f-935d-255ce8cd89da",
   "metadata": {},
   "outputs": [
    {
     "name": "stdout",
     "output_type": "stream",
     "text": [
      "/wiki/Science_des_données\n",
      "/wiki/Discussion:Science_des_données\n",
      "/wiki/Spécial:Pages_liées/Science_des_données\n",
      "/wiki/Spécial:Suivi_des_liens/Science_des_données\n",
      "/wiki/Aide:Importer_un_fichier\n"
     ]
    }
   ],
   "source": [
    "from urllib.parse import unquote\n",
    "\n",
    "\n",
    "decoded_urls = [unquote(url) for url in liens]\n",
    "\n",
    "for i,url in enumerate(decoded_urls):\n",
    "    print(url)\n",
    "    if i==4: break"
   ]
  },
  {
   "cell_type": "code",
   "execution_count": 27,
   "id": "26dbf5d5-f2fe-475b-94bf-6e0387695e77",
   "metadata": {},
   "outputs": [
    {
     "data": {
      "text/plain": [
       "'/wiki/Science_des_donn%C3%A9es'"
      ]
     },
     "execution_count": 27,
     "metadata": {},
     "output_type": "execute_result"
    }
   ],
   "source": [
    "\n",
    "\n",
    "# Dans un tag, on peut accéder aux attributs avec le slicing habituel\n",
    "links[0]['href']\n"
   ]
  },
  {
   "cell_type": "code",
   "execution_count": 28,
   "id": "a224adb0-1588-4dd7-9da1-8c9577533229",
   "metadata": {},
   "outputs": [
    {
     "data": {
      "text/plain": [
       "['/wiki/Science_des_données',\n",
       " '/wiki/Discussion:Science_des_données',\n",
       " '/wiki/Spécial:Pages_liées/Science_des_données',\n",
       " '/wiki/Spécial:Suivi_des_liens/Science_des_données',\n",
       " '/wiki/Aide:Importer_un_fichier',\n",
       " '/wiki/Spécial:Pages_spéciales',\n",
       " '/wiki/Science',\n",
       " '/wiki/Architecte_de_données',\n",
       " '/wiki/Donnée',\n",
       " '/wiki/Modèle:Infobox_Discipline']"
      ]
     },
     "execution_count": 28,
     "metadata": {},
     "output_type": "execute_result"
    }
   ],
   "source": [
    "list_of_article_links = [ link[\"href\"] for link in links ]\n",
    "list_of_article_links = [unquote(url) for url in list_of_article_links]; list_of_article_links[:10]"
   ]
  },
  {
   "cell_type": "code",
   "execution_count": 29,
   "id": "86ebe37f-6db5-45df-b4c5-449bf69cbf1b",
   "metadata": {},
   "outputs": [
    {
     "ename": "MissingSchema",
     "evalue": "Invalid URL '/wiki/Science_des_données': No scheme supplied. Perhaps you meant https:///wiki/Science_des_données?",
     "output_type": "error",
     "traceback": [
      "\u001b[0;31m---------------------------------------------------------------------------\u001b[0m",
      "\u001b[0;31mMissingSchema\u001b[0m                             Traceback (most recent call last)",
      "Cell \u001b[0;32mIn[29], line 3\u001b[0m\n\u001b[1;32m      1\u001b[0m \u001b[38;5;66;03m# on va récupérer le contenu du premier lien\u001b[39;00m\n\u001b[1;32m      2\u001b[0m example_url \u001b[38;5;241m=\u001b[39m list_of_article_links[\u001b[38;5;241m0\u001b[39m]\n\u001b[0;32m----> 3\u001b[0m requests\u001b[38;5;241m.\u001b[39mget(example_url)\u001b[38;5;241m.\u001b[39mcontent\n",
      "File \u001b[0;32m/opt/conda/envs/anaconda-panel-2023.05-py310/lib/python3.11/site-packages/requests/api.py:73\u001b[0m, in \u001b[0;36mget\u001b[0;34m(url, params, **kwargs)\u001b[0m\n\u001b[1;32m     62\u001b[0m \u001b[38;5;28;01mdef\u001b[39;00m \u001b[38;5;21mget\u001b[39m(url, params\u001b[38;5;241m=\u001b[39m\u001b[38;5;28;01mNone\u001b[39;00m, \u001b[38;5;241m*\u001b[39m\u001b[38;5;241m*\u001b[39mkwargs):\n\u001b[1;32m     63\u001b[0m \u001b[38;5;250m    \u001b[39m\u001b[38;5;124mr\u001b[39m\u001b[38;5;124;03m\"\"\"Sends a GET request.\u001b[39;00m\n\u001b[1;32m     64\u001b[0m \n\u001b[1;32m     65\u001b[0m \u001b[38;5;124;03m    :param url: URL for the new :class:`Request` object.\u001b[39;00m\n\u001b[0;32m   (...)\u001b[0m\n\u001b[1;32m     70\u001b[0m \u001b[38;5;124;03m    :rtype: requests.Response\u001b[39;00m\n\u001b[1;32m     71\u001b[0m \u001b[38;5;124;03m    \"\"\"\u001b[39;00m\n\u001b[0;32m---> 73\u001b[0m     \u001b[38;5;28;01mreturn\u001b[39;00m request(\u001b[38;5;124m\"\u001b[39m\u001b[38;5;124mget\u001b[39m\u001b[38;5;124m\"\u001b[39m, url, params\u001b[38;5;241m=\u001b[39mparams, \u001b[38;5;241m*\u001b[39m\u001b[38;5;241m*\u001b[39mkwargs)\n",
      "File \u001b[0;32m/opt/conda/envs/anaconda-panel-2023.05-py310/lib/python3.11/site-packages/requests/api.py:59\u001b[0m, in \u001b[0;36mrequest\u001b[0;34m(method, url, **kwargs)\u001b[0m\n\u001b[1;32m     55\u001b[0m \u001b[38;5;66;03m# By using the 'with' statement we are sure the session is closed, thus we\u001b[39;00m\n\u001b[1;32m     56\u001b[0m \u001b[38;5;66;03m# avoid leaving sockets open which can trigger a ResourceWarning in some\u001b[39;00m\n\u001b[1;32m     57\u001b[0m \u001b[38;5;66;03m# cases, and look like a memory leak in others.\u001b[39;00m\n\u001b[1;32m     58\u001b[0m \u001b[38;5;28;01mwith\u001b[39;00m sessions\u001b[38;5;241m.\u001b[39mSession() \u001b[38;5;28;01mas\u001b[39;00m session:\n\u001b[0;32m---> 59\u001b[0m     \u001b[38;5;28;01mreturn\u001b[39;00m session\u001b[38;5;241m.\u001b[39mrequest(method\u001b[38;5;241m=\u001b[39mmethod, url\u001b[38;5;241m=\u001b[39murl, \u001b[38;5;241m*\u001b[39m\u001b[38;5;241m*\u001b[39mkwargs)\n",
      "File \u001b[0;32m/opt/conda/envs/anaconda-panel-2023.05-py310/lib/python3.11/site-packages/requests/sessions.py:575\u001b[0m, in \u001b[0;36mSession.request\u001b[0;34m(self, method, url, params, data, headers, cookies, files, auth, timeout, allow_redirects, proxies, hooks, stream, verify, cert, json)\u001b[0m\n\u001b[1;32m    562\u001b[0m \u001b[38;5;66;03m# Create the Request.\u001b[39;00m\n\u001b[1;32m    563\u001b[0m req \u001b[38;5;241m=\u001b[39m Request(\n\u001b[1;32m    564\u001b[0m     method\u001b[38;5;241m=\u001b[39mmethod\u001b[38;5;241m.\u001b[39mupper(),\n\u001b[1;32m    565\u001b[0m     url\u001b[38;5;241m=\u001b[39murl,\n\u001b[0;32m   (...)\u001b[0m\n\u001b[1;32m    573\u001b[0m     hooks\u001b[38;5;241m=\u001b[39mhooks,\n\u001b[1;32m    574\u001b[0m )\n\u001b[0;32m--> 575\u001b[0m prep \u001b[38;5;241m=\u001b[39m \u001b[38;5;28mself\u001b[39m\u001b[38;5;241m.\u001b[39mprepare_request(req)\n\u001b[1;32m    577\u001b[0m proxies \u001b[38;5;241m=\u001b[39m proxies \u001b[38;5;129;01mor\u001b[39;00m {}\n\u001b[1;32m    579\u001b[0m settings \u001b[38;5;241m=\u001b[39m \u001b[38;5;28mself\u001b[39m\u001b[38;5;241m.\u001b[39mmerge_environment_settings(\n\u001b[1;32m    580\u001b[0m     prep\u001b[38;5;241m.\u001b[39murl, proxies, stream, verify, cert\n\u001b[1;32m    581\u001b[0m )\n",
      "File \u001b[0;32m/opt/conda/envs/anaconda-panel-2023.05-py310/lib/python3.11/site-packages/requests/sessions.py:486\u001b[0m, in \u001b[0;36mSession.prepare_request\u001b[0;34m(self, request)\u001b[0m\n\u001b[1;32m    483\u001b[0m     auth \u001b[38;5;241m=\u001b[39m get_netrc_auth(request\u001b[38;5;241m.\u001b[39murl)\n\u001b[1;32m    485\u001b[0m p \u001b[38;5;241m=\u001b[39m PreparedRequest()\n\u001b[0;32m--> 486\u001b[0m p\u001b[38;5;241m.\u001b[39mprepare(\n\u001b[1;32m    487\u001b[0m     method\u001b[38;5;241m=\u001b[39mrequest\u001b[38;5;241m.\u001b[39mmethod\u001b[38;5;241m.\u001b[39mupper(),\n\u001b[1;32m    488\u001b[0m     url\u001b[38;5;241m=\u001b[39mrequest\u001b[38;5;241m.\u001b[39murl,\n\u001b[1;32m    489\u001b[0m     files\u001b[38;5;241m=\u001b[39mrequest\u001b[38;5;241m.\u001b[39mfiles,\n\u001b[1;32m    490\u001b[0m     data\u001b[38;5;241m=\u001b[39mrequest\u001b[38;5;241m.\u001b[39mdata,\n\u001b[1;32m    491\u001b[0m     json\u001b[38;5;241m=\u001b[39mrequest\u001b[38;5;241m.\u001b[39mjson,\n\u001b[1;32m    492\u001b[0m     headers\u001b[38;5;241m=\u001b[39mmerge_setting(\n\u001b[1;32m    493\u001b[0m         request\u001b[38;5;241m.\u001b[39mheaders, \u001b[38;5;28mself\u001b[39m\u001b[38;5;241m.\u001b[39mheaders, dict_class\u001b[38;5;241m=\u001b[39mCaseInsensitiveDict\n\u001b[1;32m    494\u001b[0m     ),\n\u001b[1;32m    495\u001b[0m     params\u001b[38;5;241m=\u001b[39mmerge_setting(request\u001b[38;5;241m.\u001b[39mparams, \u001b[38;5;28mself\u001b[39m\u001b[38;5;241m.\u001b[39mparams),\n\u001b[1;32m    496\u001b[0m     auth\u001b[38;5;241m=\u001b[39mmerge_setting(auth, \u001b[38;5;28mself\u001b[39m\u001b[38;5;241m.\u001b[39mauth),\n\u001b[1;32m    497\u001b[0m     cookies\u001b[38;5;241m=\u001b[39mmerged_cookies,\n\u001b[1;32m    498\u001b[0m     hooks\u001b[38;5;241m=\u001b[39mmerge_hooks(request\u001b[38;5;241m.\u001b[39mhooks, \u001b[38;5;28mself\u001b[39m\u001b[38;5;241m.\u001b[39mhooks),\n\u001b[1;32m    499\u001b[0m )\n\u001b[1;32m    500\u001b[0m \u001b[38;5;28;01mreturn\u001b[39;00m p\n",
      "File \u001b[0;32m/opt/conda/envs/anaconda-panel-2023.05-py310/lib/python3.11/site-packages/requests/models.py:368\u001b[0m, in \u001b[0;36mPreparedRequest.prepare\u001b[0;34m(self, method, url, headers, files, data, params, auth, cookies, hooks, json)\u001b[0m\n\u001b[1;32m    365\u001b[0m \u001b[38;5;250m\u001b[39m\u001b[38;5;124;03m\"\"\"Prepares the entire request with the given parameters.\"\"\"\u001b[39;00m\n\u001b[1;32m    367\u001b[0m \u001b[38;5;28mself\u001b[39m\u001b[38;5;241m.\u001b[39mprepare_method(method)\n\u001b[0;32m--> 368\u001b[0m \u001b[38;5;28mself\u001b[39m\u001b[38;5;241m.\u001b[39mprepare_url(url, params)\n\u001b[1;32m    369\u001b[0m \u001b[38;5;28mself\u001b[39m\u001b[38;5;241m.\u001b[39mprepare_headers(headers)\n\u001b[1;32m    370\u001b[0m \u001b[38;5;28mself\u001b[39m\u001b[38;5;241m.\u001b[39mprepare_cookies(cookies)\n",
      "File \u001b[0;32m/opt/conda/envs/anaconda-panel-2023.05-py310/lib/python3.11/site-packages/requests/models.py:439\u001b[0m, in \u001b[0;36mPreparedRequest.prepare_url\u001b[0;34m(self, url, params)\u001b[0m\n\u001b[1;32m    436\u001b[0m     \u001b[38;5;28;01mraise\u001b[39;00m InvalidURL(\u001b[38;5;241m*\u001b[39me\u001b[38;5;241m.\u001b[39margs)\n\u001b[1;32m    438\u001b[0m \u001b[38;5;28;01mif\u001b[39;00m \u001b[38;5;129;01mnot\u001b[39;00m scheme:\n\u001b[0;32m--> 439\u001b[0m     \u001b[38;5;28;01mraise\u001b[39;00m MissingSchema(\n\u001b[1;32m    440\u001b[0m         \u001b[38;5;124mf\u001b[39m\u001b[38;5;124m\"\u001b[39m\u001b[38;5;124mInvalid URL \u001b[39m\u001b[38;5;132;01m{\u001b[39;00murl\u001b[38;5;132;01m!r}\u001b[39;00m\u001b[38;5;124m: No scheme supplied. \u001b[39m\u001b[38;5;124m\"\u001b[39m\n\u001b[1;32m    441\u001b[0m         \u001b[38;5;124mf\u001b[39m\u001b[38;5;124m\"\u001b[39m\u001b[38;5;124mPerhaps you meant https://\u001b[39m\u001b[38;5;132;01m{\u001b[39;00murl\u001b[38;5;132;01m}\u001b[39;00m\u001b[38;5;124m?\u001b[39m\u001b[38;5;124m\"\u001b[39m\n\u001b[1;32m    442\u001b[0m     )\n\u001b[1;32m    444\u001b[0m \u001b[38;5;28;01mif\u001b[39;00m \u001b[38;5;129;01mnot\u001b[39;00m host:\n\u001b[1;32m    445\u001b[0m     \u001b[38;5;28;01mraise\u001b[39;00m InvalidURL(\u001b[38;5;124mf\u001b[39m\u001b[38;5;124m\"\u001b[39m\u001b[38;5;124mInvalid URL \u001b[39m\u001b[38;5;132;01m{\u001b[39;00murl\u001b[38;5;132;01m!r}\u001b[39;00m\u001b[38;5;124m: No host supplied\u001b[39m\u001b[38;5;124m\"\u001b[39m)\n",
      "\u001b[0;31mMissingSchema\u001b[0m: Invalid URL '/wiki/Science_des_données': No scheme supplied. Perhaps you meant https:///wiki/Science_des_données?"
     ]
    }
   ],
   "source": [
    "\n",
    "# on va récupérer le contenu du premier lien\n",
    "example_url = list_of_article_links[0]\n",
    "requests.get(example_url).content"
   ]
  },
  {
   "cell_type": "code",
   "execution_count": 30,
   "id": "76ea1845-3240-4363-a3dc-5633092b5ebe",
   "metadata": {},
   "outputs": [
    {
     "data": {
      "text/plain": [
       "'https://fr.wikipedia.org/wiki/Science_des_données'"
      ]
     },
     "execution_count": 30,
     "metadata": {},
     "output_type": "execute_result"
    }
   ],
   "source": [
    "prefix = \"https://fr.wikipedia.org\"\n",
    "prefix + list_of_article_links[0] # concaténation rapide"
   ]
  },
  {
   "cell_type": "code",
   "execution_count": 31,
   "id": "6a5080dd-c3fa-4e38-80e1-88d52b791580",
   "metadata": {},
   "outputs": [
    {
     "data": {
      "text/plain": [
       "b'<!DOCTYPE html>\\n<html class=\"client-nojs vector-feature-language-in-header-enabled vector-feature-language-in-main-page-header-disabled vector-feature-sticky-header-disabled vector-feature-page-tools-pinned-disabled vector-feature-toc-pinned-clientpref-1 vector-feature-main-menu-pinned-disabled vector-feature-limited-width-clientpref-1 vector-feature-limited-width-content-enabled vector-feature-custom-font-size-clientpref-0 vector-feature-client-preferences-disabled vector-feature-client-prefs-pinned-disabled vector-feature-night-mode-disabled skin-night-mode-clientpref-0 vector-toc-available\" lang=\"fr\" dir=\"ltr\">\\n<head>\\n<meta charset=\"UTF-8\">\\n<title>Science des donn\\xc3\\xa9es \\xe2\\x80\\x94 Wikip\\xc3\\xa9dia</title>\\n<script>(function(){var className=\"client-js vector-feature-language-in-header-enabled vector-feature-language-in-main-page-header-disabled vector-feature-sticky-header-disabled vector-feature-page-tools-pinned-disabled vector-feature-toc-pinned-clientpref-1 vector-feature-main-menu-pinned-disabl'"
      ]
     },
     "execution_count": 31,
     "metadata": {},
     "output_type": "execute_result"
    }
   ],
   "source": [
    "first_article_content = requests.get(prefix + list_of_article_links[0]).content\n",
    "first_article_content[:1000]"
   ]
  },
  {
   "cell_type": "code",
   "execution_count": 32,
   "id": "91806d68-3211-406c-a3c4-f409ae48c2a2",
   "metadata": {},
   "outputs": [
    {
     "data": {
      "text/plain": [
       "['https://fr.wikipedia.org/wiki/Science_des_données',\n",
       " 'https://fr.wikipedia.org/wiki/Discussion:Science_des_données',\n",
       " 'https://fr.wikipedia.org/wiki/Spécial:Pages_liées/Science_des_données',\n",
       " 'https://fr.wikipedia.org/wiki/Spécial:Suivi_des_liens/Science_des_données',\n",
       " 'https://fr.wikipedia.org/wiki/Aide:Importer_un_fichier',\n",
       " 'https://fr.wikipedia.org/wiki/Spécial:Pages_spéciales',\n",
       " 'https://fr.wikipedia.org/wiki/Science',\n",
       " 'https://fr.wikipedia.org/wiki/Architecte_de_données',\n",
       " 'https://fr.wikipedia.org/wiki/Donnée',\n",
       " 'https://fr.wikipedia.org/wiki/Modèle:Infobox_Discipline']"
      ]
     },
     "execution_count": 32,
     "metadata": {},
     "output_type": "execute_result"
    }
   ],
   "source": [
    "# Essayons de rendre nos noms de variables le plus clair possible\n",
    "list_article_links_complete = [prefix + extension for extension in list_of_article_links]\n",
    "list_article_links_complete[:10]"
   ]
  },
  {
   "cell_type": "code",
   "execution_count": 33,
   "id": "5d62c4d7-2b75-4b8d-8aea-0efdfc784233",
   "metadata": {},
   "outputs": [
    {
     "ename": "NameError",
     "evalue": "name 'pd' is not defined",
     "output_type": "error",
     "traceback": [
      "\u001b[0;31m---------------------------------------------------------------------------\u001b[0m",
      "\u001b[0;31mNameError\u001b[0m                                 Traceback (most recent call last)",
      "Cell \u001b[0;32mIn[33], line 1\u001b[0m\n\u001b[0;32m----> 1\u001b[0m pd\u001b[38;5;241m.\u001b[39mDataFrame(list_article_links_complete, columns\u001b[38;5;241m=\u001b[39m[\u001b[38;5;124m'\u001b[39m\u001b[38;5;124mliens\u001b[39m\u001b[38;5;124m'\u001b[39m])\n",
      "\u001b[0;31mNameError\u001b[0m: name 'pd' is not defined"
     ]
    }
   ],
   "source": [
    "pd.DataFrame(list_article_links_complete, columns=['liens'])"
   ]
  },
  {
   "cell_type": "code",
   "execution_count": 34,
   "id": "f33dbf25-a5e3-46ca-81eb-d7d2b4c136b1",
   "metadata": {},
   "outputs": [],
   "source": [
    "import pandas as pd\n"
   ]
  },
  {
   "cell_type": "code",
   "execution_count": 35,
   "id": "6fad572b-c475-4dab-944e-fccf93c81acd",
   "metadata": {},
   "outputs": [
    {
     "data": {
      "text/html": [
       "<div>\n",
       "<style scoped>\n",
       "    .dataframe tbody tr th:only-of-type {\n",
       "        vertical-align: middle;\n",
       "    }\n",
       "\n",
       "    .dataframe tbody tr th {\n",
       "        vertical-align: top;\n",
       "    }\n",
       "\n",
       "    .dataframe thead th {\n",
       "        text-align: right;\n",
       "    }\n",
       "</style>\n",
       "<table border=\"1\" class=\"dataframe\">\n",
       "  <thead>\n",
       "    <tr style=\"text-align: right;\">\n",
       "      <th></th>\n",
       "      <th>liens</th>\n",
       "    </tr>\n",
       "  </thead>\n",
       "  <tbody>\n",
       "    <tr>\n",
       "      <th>0</th>\n",
       "      <td>https://fr.wikipedia.org/wiki/Science_des_données</td>\n",
       "    </tr>\n",
       "    <tr>\n",
       "      <th>1</th>\n",
       "      <td>https://fr.wikipedia.org/wiki/Discussion:Scien...</td>\n",
       "    </tr>\n",
       "    <tr>\n",
       "      <th>2</th>\n",
       "      <td>https://fr.wikipedia.org/wiki/Spécial:Pages_li...</td>\n",
       "    </tr>\n",
       "    <tr>\n",
       "      <th>3</th>\n",
       "      <td>https://fr.wikipedia.org/wiki/Spécial:Suivi_de...</td>\n",
       "    </tr>\n",
       "    <tr>\n",
       "      <th>4</th>\n",
       "      <td>https://fr.wikipedia.org/wiki/Aide:Importer_un...</td>\n",
       "    </tr>\n",
       "    <tr>\n",
       "      <th>...</th>\n",
       "      <td>...</td>\n",
       "    </tr>\n",
       "    <tr>\n",
       "      <th>328</th>\n",
       "      <td>https://fr.wikipedia.org/wiki/Catégorie:Portai...</td>\n",
       "    </tr>\n",
       "    <tr>\n",
       "      <th>329</th>\n",
       "      <td>https://fr.wikipedia.org/wiki/Catégorie:Portai...</td>\n",
       "    </tr>\n",
       "    <tr>\n",
       "      <th>330</th>\n",
       "      <td>https://fr.wikipedia.org/wiki/Catégorie:Projet...</td>\n",
       "    </tr>\n",
       "    <tr>\n",
       "      <th>331</th>\n",
       "      <td>https://fr.wikipedia.org/wiki/Catégorie:Portai...</td>\n",
       "    </tr>\n",
       "    <tr>\n",
       "      <th>332</th>\n",
       "      <td>https://fr.wikipedia.org/wiki/Catégorie:Portai...</td>\n",
       "    </tr>\n",
       "  </tbody>\n",
       "</table>\n",
       "<p>333 rows × 1 columns</p>\n",
       "</div>"
      ],
      "text/plain": [
       "                                                 liens\n",
       "0    https://fr.wikipedia.org/wiki/Science_des_données\n",
       "1    https://fr.wikipedia.org/wiki/Discussion:Scien...\n",
       "2    https://fr.wikipedia.org/wiki/Spécial:Pages_li...\n",
       "3    https://fr.wikipedia.org/wiki/Spécial:Suivi_de...\n",
       "4    https://fr.wikipedia.org/wiki/Aide:Importer_un...\n",
       "..                                                 ...\n",
       "328  https://fr.wikipedia.org/wiki/Catégorie:Portai...\n",
       "329  https://fr.wikipedia.org/wiki/Catégorie:Portai...\n",
       "330  https://fr.wikipedia.org/wiki/Catégorie:Projet...\n",
       "331  https://fr.wikipedia.org/wiki/Catégorie:Portai...\n",
       "332  https://fr.wikipedia.org/wiki/Catégorie:Portai...\n",
       "\n",
       "[333 rows x 1 columns]"
      ]
     },
     "execution_count": 35,
     "metadata": {},
     "output_type": "execute_result"
    }
   ],
   "source": [
    "pd.DataFrame(list_article_links_complete, columns=['liens'])"
   ]
  },
  {
   "cell_type": "code",
   "execution_count": 36,
   "id": "8ff70c2d-2470-477d-a498-0b5d427bd51c",
   "metadata": {},
   "outputs": [],
   "source": [
    "from tqdm.notebook import tqdm # pour afficher des barres de chargement\n",
    "import numpy as np # pour calculer des médianes"
   ]
  },
  {
   "cell_type": "code",
   "execution_count": 37,
   "id": "aae1b878-3a57-45db-85fe-af462cc1bce7",
   "metadata": {},
   "outputs": [
    {
     "data": {
      "application/vnd.jupyter.widget-view+json": {
       "model_id": "9603b060b66649f296efc14352d60b77",
       "version_major": 2,
       "version_minor": 0
      },
      "text/plain": [
       "  0%|          | 0/50 [00:00<?, ?it/s]"
      ]
     },
     "metadata": {},
     "output_type": "display_data"
    },
    {
     "name": "stdout",
     "output_type": "stream",
     "text": [
      "No note or reference in article https://fr.wikipedia.org/wiki/Discussion:Science_des_données\n",
      "No note or reference in article https://fr.wikipedia.org/wiki/Spécial:Pages_liées/Science_des_données\n",
      "No note or reference in article https://fr.wikipedia.org/wiki/Spécial:Suivi_des_liens/Science_des_données\n",
      "No note or reference in article https://fr.wikipedia.org/wiki/Aide:Importer_un_fichier\n",
      "No note or reference in article https://fr.wikipedia.org/wiki/Spécial:Pages_spéciales\n",
      "No note or reference in article https://fr.wikipedia.org/wiki/Architecte_de_données\n",
      "No note or reference in article https://fr.wikipedia.org/wiki/Modèle:Infobox_Discipline\n",
      "No note or reference in article https://fr.wikipedia.org/wiki/Tableau_de_bord_(informatique)\n",
      "No note or reference in article https://fr.wikipedia.org/wiki/Aide:Recyclage\n",
      "No note or reference in article https://fr.wikipedia.org/wiki/Spécial:EditPage/Science_des_données\n",
      "No note or reference in article https://fr.wikipedia.org/wiki/Discussion:Science_des_données\n",
      "No note or reference in article https://fr.wikipedia.org/wiki/Aide:Recyclage\n",
      "No note or reference in article https://fr.wikipedia.org/wiki/Spécial:EditPage/Science_des_données\n",
      "No note or reference in article https://fr.wikipedia.org/wiki/Discussion:Science_des_données\n",
      "\n",
      "Median number of notes per article is 9.0\n",
      "Mean number of notes per article is 23.04\n",
      "Stdev of number of notes per article is 36.16902542231405\n"
     ]
    }
   ],
   "source": [
    "### Notre analyse\n",
    "\n",
    "articles_number_notes = []\n",
    "\n",
    "for article_link in tqdm(list_article_links_complete[:50]): # intégrer tdqm permet d'afficher une barre de progression de la boucle\n",
    "\n",
    "    # constitution de notre soup de façon classique\n",
    "    first_article_content = requests.get(article_link).content\n",
    "    first_article_soup = BeautifulSoup(first_article_content, 'html.parser')\n",
    "\n",
    "    # Certains articles n'auront ni notes ni références, ils donneront une erreur\n",
    "    # Ces erreurs seront gérés par la commande except\n",
    "    try:\n",
    "\n",
    "        # On parcourt l'arbre pour trouver les éléments dans la liste référence\n",
    "        notes_et_references = (first_article_soup\n",
    "                               .find('main')\n",
    "                               .find(\"ol\", {\"class\": \"references\"})\n",
    "                               .find_all(\"li\")\n",
    "                              )\n",
    "        # on stocke dans une liste le nombre de références\n",
    "        number_of_notes = len(notes_et_references)\n",
    "        articles_number_notes.append(number_of_notes)\n",
    "\n",
    "    except AttributeError:\n",
    "        print(\"No note or reference in article\", article_link)\n",
    "        articles_number_notes.append(0)   # Il n'y a pas de notes donc on ajoute 0 à la liste.\n",
    "\n",
    "print(\"\\nMedian number of notes per article is\", np.median(articles_number_notes))\n",
    "print(\"Mean number of notes per article is\", np.mean(articles_number_notes))\n",
    "print(\"Stdev of number of notes per article is\", np.std(articles_number_notes))"
   ]
  },
  {
   "cell_type": "code",
   "execution_count": 38,
   "id": "d469ceba-d264-42fa-84b2-b2724c71a0b5",
   "metadata": {},
   "outputs": [
    {
     "name": "stderr",
     "output_type": "stream",
     "text": [
      "Matplotlib is building the font cache; this may take a moment.\n"
     ]
    },
    {
     "data": {
      "image/png": "[encoded data removed]",
      "text/plain": [
       "<Figure size 640x480 with 1 Axes>"
      ]
     },
     "metadata": {},
     "output_type": "display_data"
    }
   ],
   "source": [
    "\n",
    "\n",
    "import matplotlib.pyplot as plt\n",
    "\n",
    "plt.boxplot(articles_number_notes, patch_artist=True);\n"
   ]
  },
  {
   "cell_type": "code",
   "execution_count": 39,
   "id": "3ff1af26-838e-4065-9625-ae48d6d2997d",
   "metadata": {},
   "outputs": [
    {
     "data": {
      "image/png": "[encoded data removed]",
      "text/plain": [
       "<Figure size 400x500 with 1 Axes>"
      ]
     },
     "metadata": {},
     "output_type": "display_data"
    }
   ],
   "source": [
    "import seaborn as sns\n",
    "plt.figure(figsize=(4,5))\n",
    "sns.violinplot(data=articles_number_notes);"
   ]
  }
 ],
 "metadata": {
  "kernelspec": {
   "display_name": "anaconda-panel-2023.05-py310",
   "language": "python",
   "name": "conda-env-anaconda-panel-2023.05-py310-py"
  },
  "language_info": {
   "codemirror_mode": {
    "name": "ipython",
    "version": 3
   },
   "file_extension": ".py",
   "mimetype": "text/x-python",
   "name": "python",
   "nbconvert_exporter": "python",
   "pygments_lexer": "ipython3",
   "version": "3.11.5"
  }
 },
 "nbformat": 4,
 "nbformat_minor": 5
}
